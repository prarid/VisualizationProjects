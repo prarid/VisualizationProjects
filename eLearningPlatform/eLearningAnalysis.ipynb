{
 "cells": [
  {
   "cell_type": "markdown",
   "id": "2a0463b4",
   "metadata": {},
   "source": [
    "# <center>eLearning User Data Analysis</center>\n",
    "\n",
    "### <center>Project Background:</center>\n",
    "This project was undertaken on a pro bono basis for an eLearning Platform. The client offers a Flagship course which it expects attracts most users to its platform initially; they wanted to understand if users stayed beyond this course to pursue other courses (which would result in revenue generation or the platform). Further, the client also wanted to understand the general learning patterns of the users associated with its largest corporate account and also if these patterns differed by type of user (professional vs student users). \n",
    "\n",
    "Sample data was provided from ~ Nov 2019 to June 2022. \n",
    "\n",
    "### <center>Key Observations:</center>\n",
    "\n",
    "<b> (1) Impact of the Flagship Program </b>: Perhaps the most interesting observation is that, contrary to expectations, the first interaction that users have with the eLearning platform is not always via the Flagship Program (also called Primary Program through this project). \n",
    "\n",
    "* Among student users, ~60% start with Ancillary Program A rather than the Flagship Program.\n",
    "* The trend reverses amongst the professional users of the platform; about, while 60% of such users do start with the Flagship program, a sizeable population (~40%) starts with one of the Ancillary Programs (predominantly Program A).\n",
    "\n",
    "<b> (2) Continuing Education and Ancillary Program Popularity</b>: Most users are unfortunately not continuing beyond their initial Program. The exception are the students who start with Program A and continue with the Primary Program.\n",
    "    \n",
    "It is clear that amongst the ancillary learning programs that the platform is hoping to grow, Program A appears to be the standout and is popular amongst both students and professionals alike. In order to grow participation in the other Ancillary Programs, the recommended approach would be to conduct surveys and solicit feedback from users on what they like about Program A, e.g., topic covered, presentation, instruction style. All other Ancillary Programs would need to be reviewed against this feedback."
   ]
  },
  {
   "cell_type": "markdown",
   "id": "8033780b",
   "metadata": {},
   "source": [
    "![Initial_Next_Course.png](Initial_Next_Course.png)\n",
    "![ProgPopularity.png](ProgPopularity.png)"
   ]
  },
  {
   "cell_type": "markdown",
   "id": "42c37b29",
   "metadata": {},
   "source": [
    "### <center> Project Code and Analysis Details </center>\n",
    "#### Data Preprocessing and Transformation \n",
    "\n",
    "<b> MasterData</b>: This file contains eLearning Platform usage data for each user. This is the primary data for our analysis and covers sample data from ~ Nov 2019 to June 2022. Data was cleaned and anonymized for further analysis."
   ]
  },
  {
   "cell_type": "code",
   "execution_count": 1,
   "id": "b3126cfa",
   "metadata": {},
   "outputs": [],
   "source": [
    "import warnings\n",
    "warnings.filterwarnings('ignore')\n",
    "\n",
    "import numpy as np\n",
    "import pandas as pd\n",
    "pd.set_option(\"display.max_columns\",None)\n",
    "pd.set_option(\"display.max_rows\",None)\n",
    "\n",
    "import matplotlib.pyplot as plt\n",
    "plt.style.use(\"classic\")\n",
    "import seaborn as sns"
   ]
  },
  {
   "cell_type": "code",
   "execution_count": 2,
   "id": "8ac9ac48",
   "metadata": {},
   "outputs": [
    {
     "name": "stdout",
     "output_type": "stream",
     "text": [
      "<class 'pandas.core.frame.DataFrame'>\n",
      "RangeIndex: 25036 entries, 0 to 25035\n",
      "Data columns (total 11 columns):\n",
      " #   Column             Non-Null Count  Dtype         \n",
      "---  ------             --------------  -----         \n",
      " 0   UserID             25001 non-null  object        \n",
      " 1   UserType           25036 non-null  object        \n",
      " 2   Enrollment Date    25036 non-null  datetime64[ns]\n",
      " 3   First Launch Date  18544 non-null  datetime64[ns]\n",
      " 4   Status             25036 non-null  object        \n",
      " 5   Completion Date    13428 non-null  datetime64[ns]\n",
      " 6   Price              25036 non-null  int64         \n",
      " 7   Time (in Hours)    25036 non-null  float64       \n",
      " 8   Score              25036 non-null  int64         \n",
      " 9   Media              25036 non-null  object        \n",
      " 10  Program            21310 non-null  object        \n",
      "dtypes: datetime64[ns](3), float64(1), int64(2), object(5)\n",
      "memory usage: 2.1+ MB\n"
     ]
    },
    {
     "data": {
      "text/html": [
       "<div>\n",
       "<style scoped>\n",
       "    .dataframe tbody tr th:only-of-type {\n",
       "        vertical-align: middle;\n",
       "    }\n",
       "\n",
       "    .dataframe tbody tr th {\n",
       "        vertical-align: top;\n",
       "    }\n",
       "\n",
       "    .dataframe thead th {\n",
       "        text-align: right;\n",
       "    }\n",
       "</style>\n",
       "<table border=\"1\" class=\"dataframe\">\n",
       "  <thead>\n",
       "    <tr style=\"text-align: right;\">\n",
       "      <th></th>\n",
       "      <th>UserID</th>\n",
       "      <th>UserType</th>\n",
       "      <th>Enrollment Date</th>\n",
       "      <th>First Launch Date</th>\n",
       "      <th>Status</th>\n",
       "      <th>Completion Date</th>\n",
       "      <th>Price</th>\n",
       "      <th>Time (in Hours)</th>\n",
       "      <th>Score</th>\n",
       "      <th>Media</th>\n",
       "      <th>Program</th>\n",
       "    </tr>\n",
       "  </thead>\n",
       "  <tbody>\n",
       "    <tr>\n",
       "      <th>0</th>\n",
       "      <td>A001705</td>\n",
       "      <td>Professional</td>\n",
       "      <td>2021-07-05 11:39:04</td>\n",
       "      <td>NaT</td>\n",
       "      <td>Not Started</td>\n",
       "      <td>NaT</td>\n",
       "      <td>0</td>\n",
       "      <td>0.0</td>\n",
       "      <td>0</td>\n",
       "      <td>Online</td>\n",
       "      <td>NaN</td>\n",
       "    </tr>\n",
       "    <tr>\n",
       "      <th>1</th>\n",
       "      <td>A001325</td>\n",
       "      <td>Professional</td>\n",
       "      <td>2021-06-26 18:36:51</td>\n",
       "      <td>NaT</td>\n",
       "      <td>Not Started</td>\n",
       "      <td>NaT</td>\n",
       "      <td>0</td>\n",
       "      <td>0.0</td>\n",
       "      <td>0</td>\n",
       "      <td>Online</td>\n",
       "      <td>NaN</td>\n",
       "    </tr>\n",
       "    <tr>\n",
       "      <th>2</th>\n",
       "      <td>A003813</td>\n",
       "      <td>Professional</td>\n",
       "      <td>2021-06-26 16:40:04</td>\n",
       "      <td>NaT</td>\n",
       "      <td>Not Started</td>\n",
       "      <td>NaT</td>\n",
       "      <td>0</td>\n",
       "      <td>0.0</td>\n",
       "      <td>0</td>\n",
       "      <td>Online</td>\n",
       "      <td>NaN</td>\n",
       "    </tr>\n",
       "    <tr>\n",
       "      <th>3</th>\n",
       "      <td>A003962</td>\n",
       "      <td>Professional</td>\n",
       "      <td>2021-05-26 04:16:14</td>\n",
       "      <td>NaT</td>\n",
       "      <td>Not Started</td>\n",
       "      <td>NaT</td>\n",
       "      <td>0</td>\n",
       "      <td>0.0</td>\n",
       "      <td>0</td>\n",
       "      <td>Online</td>\n",
       "      <td>NaN</td>\n",
       "    </tr>\n",
       "    <tr>\n",
       "      <th>4</th>\n",
       "      <td>A001132</td>\n",
       "      <td>Professional</td>\n",
       "      <td>2021-05-04 08:35:19</td>\n",
       "      <td>NaT</td>\n",
       "      <td>Not Started</td>\n",
       "      <td>NaT</td>\n",
       "      <td>0</td>\n",
       "      <td>0.0</td>\n",
       "      <td>0</td>\n",
       "      <td>Online</td>\n",
       "      <td>NaN</td>\n",
       "    </tr>\n",
       "  </tbody>\n",
       "</table>\n",
       "</div>"
      ],
      "text/plain": [
       "    UserID      UserType     Enrollment Date First Launch Date       Status  \\\n",
       "0  A001705  Professional 2021-07-05 11:39:04               NaT  Not Started   \n",
       "1  A001325  Professional 2021-06-26 18:36:51               NaT  Not Started   \n",
       "2  A003813  Professional 2021-06-26 16:40:04               NaT  Not Started   \n",
       "3  A003962  Professional 2021-05-26 04:16:14               NaT  Not Started   \n",
       "4  A001132  Professional 2021-05-04 08:35:19               NaT  Not Started   \n",
       "\n",
       "  Completion Date  Price  Time (in Hours)  Score   Media Program  \n",
       "0             NaT      0              0.0      0  Online     NaN  \n",
       "1             NaT      0              0.0      0  Online     NaN  \n",
       "2             NaT      0              0.0      0  Online     NaN  \n",
       "3             NaT      0              0.0      0  Online     NaN  \n",
       "4             NaT      0              0.0      0  Online     NaN  "
      ]
     },
     "execution_count": 2,
     "metadata": {},
     "output_type": "execute_result"
    }
   ],
   "source": [
    "df_all = pd.read_excel(\"MasterDataClean.xlsx\")\n",
    "df_all.info()\n",
    "df_all.head(5)"
   ]
  },
  {
   "cell_type": "markdown",
   "id": "35f9645c",
   "metadata": {},
   "source": [
    "General data cleaning + additional data transformation tasks per internal review and discussions with the client:\n",
    "\n",
    "    (1) dropping those accounts where we don't have Userinfo or Program info\n",
    "    (2) dropping duplicate rows (these indicate modules within each program and our analysis is to be limited to the program level\n",
    "    (3) dropping those courses that were never launched\n",
    "    (4) dropping waived or not started courses\n",
    "    (5) adding Pre/Pandemic/Post information per First Launch Date [def period(x)] \n"
   ]
  },
  {
   "cell_type": "code",
   "execution_count": 3,
   "id": "ce290ece",
   "metadata": {},
   "outputs": [
    {
     "name": "stdout",
     "output_type": "stream",
     "text": [
      "7169\n"
     ]
    }
   ],
   "source": [
    "## (1 - 4)\n",
    "df_all.dropna(subset = [\"UserID\", \"Program\", \"First Launch Date\"], how = \"any\", inplace = True)\n",
    "df_all.drop_duplicates(subset = [\"UserType\",\"UserID\",\"Program\"], inplace = True)  #dropping duplicates\n",
    "df_all = df_all[~df_all[\"Status\"].isin([\"Not Started\", \"Waived\"])]\n",
    "print(df_all.shape[0])"
   ]
  },
  {
   "cell_type": "code",
   "execution_count": 4,
   "id": "3ce9f682",
   "metadata": {},
   "outputs": [
    {
     "data": {
      "text/plain": [
       "4404"
      ]
     },
     "execution_count": 4,
     "metadata": {},
     "output_type": "execute_result"
    }
   ],
   "source": [
    "df_all.UserType.value_counts()  #note student population is much smaller than the professional group\n",
    "df_all.UserID.nunique()  #some users are both students and professionals"
   ]
  },
  {
   "cell_type": "markdown",
   "id": "d3480fac",
   "metadata": {},
   "source": [
    "### Analysis 1: How many courses does each user take?"
   ]
  },
  {
   "cell_type": "code",
   "execution_count": 5,
   "id": "c90b52d6",
   "metadata": {},
   "outputs": [
    {
     "name": "stdout",
     "output_type": "stream",
     "text": [
      "4404\n"
     ]
    },
    {
     "data": {
      "text/html": [
       "<div>\n",
       "<style scoped>\n",
       "    .dataframe tbody tr th:only-of-type {\n",
       "        vertical-align: middle;\n",
       "    }\n",
       "\n",
       "    .dataframe tbody tr th {\n",
       "        vertical-align: top;\n",
       "    }\n",
       "\n",
       "    .dataframe thead th {\n",
       "        text-align: right;\n",
       "    }\n",
       "</style>\n",
       "<table border=\"1\" class=\"dataframe\">\n",
       "  <thead>\n",
       "    <tr style=\"text-align: right;\">\n",
       "      <th></th>\n",
       "      <th>UserID</th>\n",
       "      <th>UserType</th>\n",
       "      <th>Program</th>\n",
       "    </tr>\n",
       "  </thead>\n",
       "  <tbody>\n",
       "    <tr>\n",
       "      <th>0</th>\n",
       "      <td>A000001</td>\n",
       "      <td>Professional</td>\n",
       "      <td>2</td>\n",
       "    </tr>\n",
       "    <tr>\n",
       "      <th>1</th>\n",
       "      <td>A000003</td>\n",
       "      <td>Professional</td>\n",
       "      <td>1</td>\n",
       "    </tr>\n",
       "    <tr>\n",
       "      <th>2</th>\n",
       "      <td>A000004</td>\n",
       "      <td>Professional</td>\n",
       "      <td>1</td>\n",
       "    </tr>\n",
       "    <tr>\n",
       "      <th>3</th>\n",
       "      <td>A000005</td>\n",
       "      <td>Professional</td>\n",
       "      <td>1</td>\n",
       "    </tr>\n",
       "    <tr>\n",
       "      <th>4</th>\n",
       "      <td>A000006</td>\n",
       "      <td>Professional</td>\n",
       "      <td>1</td>\n",
       "    </tr>\n",
       "  </tbody>\n",
       "</table>\n",
       "</div>"
      ],
      "text/plain": [
       "    UserID      UserType  Program\n",
       "0  A000001  Professional        2\n",
       "1  A000003  Professional        1\n",
       "2  A000004  Professional        1\n",
       "3  A000005  Professional        1\n",
       "4  A000006  Professional        1"
      ]
     },
     "execution_count": 5,
     "metadata": {},
     "output_type": "execute_result"
    }
   ],
   "source": [
    "_ = df_all.groupby([\"UserID\",\"UserType\"], \n",
    "                 as_index = False).agg({\"Program\":len})  ##_ contains number of courses per student by student type\n",
    "print(_.shape[0])                                                                 \n",
    "_.head()"
   ]
  },
  {
   "cell_type": "code",
   "execution_count": 6,
   "id": "5f565650",
   "metadata": {},
   "outputs": [
    {
     "data": {
      "image/png": "[encoded data removed]",
      "text/plain": [
       "<Figure size 560x400 with 1 Axes>"
      ]
     },
     "metadata": {},
     "output_type": "display_data"
    }
   ],
   "source": [
    "plt.figure(figsize = (7,5));\n",
    "colors = [\"#d1eae7\",\"#3ab09e\"]\n",
    "sns.violinplot(data = _, x= \"UserType\", y = \"Program\", \n",
    "               palette = colors, alpha = 0.3).set_title(\"Programs per User\");\n",
    "\n",
    "p_count = _[_[\"UserType\"] == \"Professional\"].shape[0]\n",
    "s_count = _[_[\"UserType\"] == \"Student\"].shape[0]\n",
    "p_mean = float(_[_[\"UserType\"] == \"Professional\"].mean().round(2))\n",
    "p_median = float(_[_[\"UserType\"] == \"Professional\"].median().round(2))\n",
    "s_mean = float(_[_[\"UserType\"] == \"Student\"].mean().round(2))\n",
    "s_median = float(_[_[\"UserType\"] == \"Student\"].median().round(2))\n",
    "\n",
    "sns.scatterplot([0,1],[p_mean, s_mean], zorder = 3, s=100, color = \"#FF5733\", marker=\"o\", label = \"Mean\");\n",
    "sns.scatterplot([0,1],[p_median, s_median], zorder = 3, s=100, color=\"#FFC300\", marker=\"o\", label = \"Median\");\n",
    "plt.ylabel(\"Number of Programs each user takes\");\n",
    "plt.gca().set_xticklabels([(\"Professionals (n:\"+str(p_count)+\")\"),(\"Students (n:\"+str(s_count)+\")\")]);\n",
    "plt.savefig(\"Programs_Per_User.png\")"
   ]
  },
  {
   "cell_type": "markdown",
   "id": "7b9a45f3",
   "metadata": {},
   "source": [
    "<b>Observation:</b> Each student typically takes two programs while each professional typically participates in 1."
   ]
  },
  {
   "cell_type": "markdown",
   "id": "3839de2f",
   "metadata": {},
   "source": [
    "### Analysis 2: Which courses are most popular?"
   ]
  },
  {
   "cell_type": "code",
   "execution_count": 7,
   "id": "1917ad6b",
   "metadata": {},
   "outputs": [
    {
     "data": {
      "text/html": [
       "<div>\n",
       "<style scoped>\n",
       "    .dataframe tbody tr th:only-of-type {\n",
       "        vertical-align: middle;\n",
       "    }\n",
       "\n",
       "    .dataframe tbody tr th {\n",
       "        vertical-align: top;\n",
       "    }\n",
       "\n",
       "    .dataframe thead th {\n",
       "        text-align: right;\n",
       "    }\n",
       "</style>\n",
       "<table border=\"1\" class=\"dataframe\">\n",
       "  <thead>\n",
       "    <tr style=\"text-align: right;\">\n",
       "      <th></th>\n",
       "      <th>UserType</th>\n",
       "      <th>Program</th>\n",
       "      <th>Percent</th>\n",
       "    </tr>\n",
       "  </thead>\n",
       "  <tbody>\n",
       "    <tr>\n",
       "      <th>9</th>\n",
       "      <td>Student</td>\n",
       "      <td>Primary Program</td>\n",
       "      <td>51.0</td>\n",
       "    </tr>\n",
       "    <tr>\n",
       "      <th>8</th>\n",
       "      <td>Student</td>\n",
       "      <td>Ancillary Program D</td>\n",
       "      <td>12.0</td>\n",
       "    </tr>\n",
       "    <tr>\n",
       "      <th>7</th>\n",
       "      <td>Student</td>\n",
       "      <td>Ancillary Program C</td>\n",
       "      <td>0.0</td>\n",
       "    </tr>\n",
       "    <tr>\n",
       "      <th>6</th>\n",
       "      <td>Student</td>\n",
       "      <td>Ancillary Program B</td>\n",
       "      <td>0.0</td>\n",
       "    </tr>\n",
       "    <tr>\n",
       "      <th>5</th>\n",
       "      <td>Student</td>\n",
       "      <td>Ancillary Program A</td>\n",
       "      <td>36.0</td>\n",
       "    </tr>\n",
       "    <tr>\n",
       "      <th>4</th>\n",
       "      <td>Professional</td>\n",
       "      <td>Primary Program</td>\n",
       "      <td>57.0</td>\n",
       "    </tr>\n",
       "    <tr>\n",
       "      <th>3</th>\n",
       "      <td>Professional</td>\n",
       "      <td>Ancillary Program D</td>\n",
       "      <td>8.0</td>\n",
       "    </tr>\n",
       "    <tr>\n",
       "      <th>2</th>\n",
       "      <td>Professional</td>\n",
       "      <td>Ancillary Program C</td>\n",
       "      <td>4.0</td>\n",
       "    </tr>\n",
       "    <tr>\n",
       "      <th>1</th>\n",
       "      <td>Professional</td>\n",
       "      <td>Ancillary Program B</td>\n",
       "      <td>4.0</td>\n",
       "    </tr>\n",
       "    <tr>\n",
       "      <th>0</th>\n",
       "      <td>Professional</td>\n",
       "      <td>Ancillary Program A</td>\n",
       "      <td>27.0</td>\n",
       "    </tr>\n",
       "  </tbody>\n",
       "</table>\n",
       "</div>"
      ],
      "text/plain": [
       "       UserType              Program  Percent\n",
       "9       Student      Primary Program     51.0\n",
       "8       Student  Ancillary Program D     12.0\n",
       "7       Student  Ancillary Program C      0.0\n",
       "6       Student  Ancillary Program B      0.0\n",
       "5       Student  Ancillary Program A     36.0\n",
       "4  Professional      Primary Program     57.0\n",
       "3  Professional  Ancillary Program D      8.0\n",
       "2  Professional  Ancillary Program C      4.0\n",
       "1  Professional  Ancillary Program B      4.0\n",
       "0  Professional  Ancillary Program A     27.0"
      ]
     },
     "execution_count": 7,
     "metadata": {},
     "output_type": "execute_result"
    }
   ],
   "source": [
    "_ = (df_all.groupby([\"UserType\",\"Program\"]).size() / df_all.groupby([\"UserType\"]).size() * 100).round().reset_index()\n",
    "_.rename(columns = {0:\"Percent\"}, inplace = True)\n",
    "_.sort_values([\"UserType\", \"Program\", \"Percent\"], ascending = False, inplace = True)\n",
    "_"
   ]
  },
  {
   "cell_type": "code",
   "execution_count": 8,
   "id": "16090d83",
   "metadata": {},
   "outputs": [],
   "source": [
    "categories= [\"Primary Program\",\"Ancillary Program A\",\"Ancillary Program B\",\"Ancillary Program C\",\"Ancillary Program D\"]\n",
    "\n",
    "_[\"Program\"] = pd.Categorical(_[\"Program\"], categories = categories)\n",
    "_.sort_values([\"UserType\",\"Program\"], inplace = True)"
   ]
  },
  {
   "cell_type": "code",
   "execution_count": 15,
   "id": "d213f0ac",
   "metadata": {},
   "outputs": [
    {
     "data": {
      "image/png": "[encoded data removed]",
      "text/plain": [
       "<Figure size 560x400 with 1 Axes>"
      ]
     },
     "metadata": {},
     "output_type": "display_data"
    }
   ],
   "source": [
    "plt.figure(figsize = (7,5))\n",
    "colors = [\"#d1eae7\", \"#3ab09e\"]\n",
    "sns.barplot(data =_, x = \"Percent\", y = \"Program\", hue = \"UserType\", \n",
    "            palette = colors).set_title(\"Program Popularity\", fontsize = 12);\n",
    "plt.gca().set_yticklabels([\"Primary\",\"Prog. A\",\"Prog. B\",\"Prog. C\",\"Prog. D\"]);\n",
    "plt.xticks(fontsize = 11);\n",
    "plt.xlabel(\"Percent\", fontsize = 11);\n",
    "plt.yticks(fontsize = 11);\n",
    "plt.ylabel(\"\", fontsize = 11);\n",
    "plt.savefig(\"ProgPopularity.png\")"
   ]
  },
  {
   "cell_type": "markdown",
   "id": "1c035d04",
   "metadata": {},
   "source": [
    "<b>Observation:</b> As expected, the primary learning program is the most popular amongst students and professionals alike. Amongst the ancillary learning programs that the platform is hoping to grow, program A appears to be the standout and is popular amongst both students and prodessionals alike. Ancillary program D also has limited popularity, especially amongst the student group."
   ]
  },
  {
   "cell_type": "markdown",
   "id": "c3539065",
   "metadata": {},
   "source": [
    "### Analysis 3: Which program do users start with? How do they continue?"
   ]
  },
  {
   "cell_type": "code",
   "execution_count": 10,
   "id": "9de3dba9",
   "metadata": {},
   "outputs": [
    {
     "name": "stdout",
     "output_type": "stream",
     "text": [
      "Which program do users take first on the eLearning Platform?\n"
     ]
    },
    {
     "data": {
      "text/html": [
       "<div>\n",
       "<style scoped>\n",
       "    .dataframe tbody tr th:only-of-type {\n",
       "        vertical-align: middle;\n",
       "    }\n",
       "\n",
       "    .dataframe tbody tr th {\n",
       "        vertical-align: top;\n",
       "    }\n",
       "\n",
       "    .dataframe thead th {\n",
       "        text-align: right;\n",
       "    }\n",
       "</style>\n",
       "<table border=\"1\" class=\"dataframe\">\n",
       "  <thead>\n",
       "    <tr style=\"text-align: right;\">\n",
       "      <th></th>\n",
       "      <th>Professional</th>\n",
       "      <th>Student</th>\n",
       "    </tr>\n",
       "  </thead>\n",
       "  <tbody>\n",
       "    <tr>\n",
       "      <th>Primary Program</th>\n",
       "      <td>60.86</td>\n",
       "      <td>39.24</td>\n",
       "    </tr>\n",
       "    <tr>\n",
       "      <th>Program A</th>\n",
       "      <td>33.07</td>\n",
       "      <td>60.04</td>\n",
       "    </tr>\n",
       "    <tr>\n",
       "      <th>Program B</th>\n",
       "      <td>1.70</td>\n",
       "      <td>0.00</td>\n",
       "    </tr>\n",
       "    <tr>\n",
       "      <th>Program C</th>\n",
       "      <td>1.91</td>\n",
       "      <td>0.00</td>\n",
       "    </tr>\n",
       "    <tr>\n",
       "      <th>Program D</th>\n",
       "      <td>2.46</td>\n",
       "      <td>0.72</td>\n",
       "    </tr>\n",
       "  </tbody>\n",
       "</table>\n",
       "</div>"
      ],
      "text/plain": [
       "                 Professional  Student\n",
       "Primary Program         60.86    39.24\n",
       "Program A               33.07    60.04\n",
       "Program B                1.70     0.00\n",
       "Program C                1.91     0.00\n",
       "Program D                2.46     0.72"
      ]
     },
     "execution_count": 10,
     "metadata": {},
     "output_type": "execute_result"
    }
   ],
   "source": [
    "usertype = [\"Professional\",\"Student\"]\n",
    "test = {}\n",
    "for user in usertype:\n",
    "    sub_df = df_all[df_all[\"UserType\"]==user]\n",
    "   \n",
    "    ##find first course:\n",
    "    starts = {}      #absolute number of users starting with each course\n",
    "    startsp = {}     #of users starting with each course\n",
    "\n",
    "    \n",
    "    ##we group by each studentID and we increase the counter(starts) based on the course this student started with\n",
    "    for group, frame in sub_df.groupby(\"UserID\"):\n",
    "        frame.sort_values(\"First Launch Date\", inplace = True)\n",
    "\n",
    "        if frame.iloc[0,10] == \"Primary Program\":\n",
    "            starts[\"Primary Program\"] = starts.get(\"Primary Program\",0) + 1 \n",
    "        elif frame.iloc[0,10] == \"Ancillary Program A\":\n",
    "            starts[\"Program A\"] = starts.get(\"Program A\",0) + 1 \n",
    "        elif frame.iloc[0,10] == \"Ancillary Program B\":\n",
    "            starts[\"Program B\"] = starts.get(\"Program B\",0) + 1 \n",
    "        elif frame.iloc[0,10] == \"Ancillary Program C\":\n",
    "            starts[\"Program C\"] = starts.get(\"Program C\",0) + 1 \n",
    "#         elif frame.iloc[0,10] == \"Ancillary Program D\":\n",
    "        else: #Program D\n",
    "            starts[\"Program D\"] = starts.get(\"Program D\",0) + 1 \n",
    "    total = 0\n",
    "    for v in starts.values(): \n",
    "        total += v\n",
    "    for k,v in starts.items():\n",
    "        startsp[k] = round(v/total *100,2)\n",
    "    \n",
    "    test[user] = startsp\n",
    "    test_pd = pd.DataFrame(test)\n",
    "\n",
    "test_pd.fillna(0, inplace = True)\n",
    "categories= [\"Primary Program\",\"Program A\",\"Program B\",\"Program C\",\"Program D\"]\n",
    "test_pd = test_pd.reindex(categories)    \n",
    "\n",
    "print(\"Which program do users take first on the eLearning Platform?\")\n",
    "test_pd"
   ]
  },
  {
   "cell_type": "markdown",
   "id": "8fcd3b14",
   "metadata": {},
   "source": [
    "<b> Observation: </b> Perhaps the most interesting observation is that contrary to expectations, the first iteration that users have is not always through the primary program. ~60% of students start with Ancillary Program A and ~40% of professional start one of the Ancillary Programs (predominantly Program A with 33%)"
   ]
  },
  {
   "cell_type": "markdown",
   "id": "cc46b1d9",
   "metadata": {},
   "source": [
    "### Analysis 4: How do they continue? \n",
    "\n",
    "For professionals, since a majority of the users start with the Primay Program, for simplicity, we're just checking what course, if any, users take after this (part A). We ignore the population that starts with other courses\n",
    "\n",
    "For students, we check which course they move onto after starting (B1) Ancillary A or (B2) the Primary Program"
   ]
  },
  {
   "cell_type": "code",
   "execution_count": 11,
   "id": "93fe340d",
   "metadata": {},
   "outputs": [],
   "source": [
    "def next_course(sub_df):\n",
    "    \n",
    "    ## we run the below loop twice, \n",
    "    ##once for those who start with the Primary program and next for those who start with Program A\n",
    "    first_programs = [\"Primary Program\", \"Ancillary Program A\"]\n",
    "    results = pd.DataFrame(index = [\"Primary Program\", \"Program A\", \"Program B\", \n",
    "                                     \"Program C\", \"Program D\", \"None\"])\n",
    "\n",
    "    for prog in first_programs:\n",
    "        prof_next = {}\n",
    "        for group, frame in sub_df.groupby(\"UserID\"):\n",
    "            frame.sort_values(\"First Launch Date\", inplace = True)\n",
    "\n",
    "            if frame.iloc[0,10] == prog:\n",
    "                temp = frame[frame[\"Program\"] != prog]  #exclude the first program they took and and look at everything else\n",
    "\n",
    "                if len(temp) == 0:  #User does not take any other courses\n",
    "                    prof_next[\"None\"] = prof_next.get(\"None\",0) + 1\n",
    "                elif temp.iloc[0,10] == \"Primary Program\":\n",
    "                    prof_next[\"Primary Program\"] = prof_next.get(\"Primary Program\",0) + 1 \n",
    "                elif temp.iloc[0,10] == \"Ancillary Program A\":\n",
    "                    prof_next[\"Program A\"] = prof_next.get(\"Program A\",0) + 1 \n",
    "                elif temp.iloc[0,10] == \"Ancillary Program B\":\n",
    "                    prof_next[\"Program B\"] = prof_next.get(\"Program B\",0) + 1 \n",
    "                elif temp.iloc[0,10] == \"Ancillary Program C\":\n",
    "                    prof_next[\"Program C\"] = prof_next.get(\"Program C\",0) + 1 \n",
    "                else: #Program D\n",
    "                    prof_next[\"Program D\"] = prof_next.get(\"Program D\",0) + 1 \n",
    "\n",
    "        prof_nextp = {}\n",
    "        total = 0\n",
    "        for v in prof_next.values(): \n",
    "            total += v\n",
    "        for k,v in prof_next.items():\n",
    "            prof_nextp[k] = round(v/total *100,2)\n",
    "    #     print(pd.Series(prof_nextp))\n",
    "        results[prog] = pd.Series(prof_nextp)\n",
    "\n",
    "    results.rename(columns = {\"Primary Program\": \"Those starting with Primary\",\n",
    "                              \"Ancillary Program A\": \"Those starting with Program A\"}, inplace = True)\n",
    "    results = results.transpose()\n",
    "    return results"
   ]
  },
  {
   "cell_type": "code",
   "execution_count": 12,
   "id": "6b7d10e1",
   "metadata": {},
   "outputs": [
    {
     "name": "stdout",
     "output_type": "stream",
     "text": [
      "Do professionals continue after their initial program?\n"
     ]
    },
    {
     "data": {
      "text/html": [
       "<div>\n",
       "<style scoped>\n",
       "    .dataframe tbody tr th:only-of-type {\n",
       "        vertical-align: middle;\n",
       "    }\n",
       "\n",
       "    .dataframe tbody tr th {\n",
       "        vertical-align: top;\n",
       "    }\n",
       "\n",
       "    .dataframe thead th {\n",
       "        text-align: right;\n",
       "    }\n",
       "</style>\n",
       "<table border=\"1\" class=\"dataframe\">\n",
       "  <thead>\n",
       "    <tr style=\"text-align: right;\">\n",
       "      <th></th>\n",
       "      <th>Primary Program</th>\n",
       "      <th>Program A</th>\n",
       "      <th>Program B</th>\n",
       "      <th>Program C</th>\n",
       "      <th>Program D</th>\n",
       "      <th>None</th>\n",
       "    </tr>\n",
       "  </thead>\n",
       "  <tbody>\n",
       "    <tr>\n",
       "      <th>Those starting with Primary</th>\n",
       "      <td>NaN</td>\n",
       "      <td>10.68</td>\n",
       "      <td>0.75</td>\n",
       "      <td>0.60</td>\n",
       "      <td>3.14</td>\n",
       "      <td>84.83</td>\n",
       "    </tr>\n",
       "    <tr>\n",
       "      <th>Those starting with Program A</th>\n",
       "      <td>72.64</td>\n",
       "      <td>NaN</td>\n",
       "      <td>3.58</td>\n",
       "      <td>2.57</td>\n",
       "      <td>7.53</td>\n",
       "      <td>13.68</td>\n",
       "    </tr>\n",
       "  </tbody>\n",
       "</table>\n",
       "</div>"
      ],
      "text/plain": [
       "                               Primary Program  Program A  Program B  \\\n",
       "Those starting with Primary                NaN      10.68       0.75   \n",
       "Those starting with Program A            72.64        NaN       3.58   \n",
       "\n",
       "                               Program C  Program D   None  \n",
       "Those starting with Primary         0.60       3.14  84.83  \n",
       "Those starting with Program A       2.57       7.53  13.68  "
      ]
     },
     "execution_count": 12,
     "metadata": {},
     "output_type": "execute_result"
    }
   ],
   "source": [
    "## We call the next_course function twice, first for professionals and next for students. \n",
    "prof_df = df_all[df_all[\"UserType\"] == \"Professional\"]\n",
    "prof_next_course = next_course(prof_df)\n",
    "\n",
    "print(\"Do professionals continue after their initial program?\")\n",
    "prof_next_course"
   ]
  },
  {
   "cell_type": "code",
   "execution_count": 13,
   "id": "0e4fb74d",
   "metadata": {},
   "outputs": [
    {
     "name": "stdout",
     "output_type": "stream",
     "text": [
      "Do students continue after their initial program?\n"
     ]
    },
    {
     "data": {
      "text/html": [
       "<div>\n",
       "<style scoped>\n",
       "    .dataframe tbody tr th:only-of-type {\n",
       "        vertical-align: middle;\n",
       "    }\n",
       "\n",
       "    .dataframe tbody tr th {\n",
       "        vertical-align: top;\n",
       "    }\n",
       "\n",
       "    .dataframe thead th {\n",
       "        text-align: right;\n",
       "    }\n",
       "</style>\n",
       "<table border=\"1\" class=\"dataframe\">\n",
       "  <thead>\n",
       "    <tr style=\"text-align: right;\">\n",
       "      <th></th>\n",
       "      <th>Primary Program</th>\n",
       "      <th>Program A</th>\n",
       "      <th>Program B</th>\n",
       "      <th>Program C</th>\n",
       "      <th>Program D</th>\n",
       "      <th>None</th>\n",
       "    </tr>\n",
       "  </thead>\n",
       "  <tbody>\n",
       "    <tr>\n",
       "      <th>Those starting with Primary</th>\n",
       "      <td>NaN</td>\n",
       "      <td>14.22</td>\n",
       "      <td>NaN</td>\n",
       "      <td>NaN</td>\n",
       "      <td>4.13</td>\n",
       "      <td>81.65</td>\n",
       "    </tr>\n",
       "    <tr>\n",
       "      <th>Those starting with Program A</th>\n",
       "      <td>86.81</td>\n",
       "      <td>NaN</td>\n",
       "      <td>NaN</td>\n",
       "      <td>NaN</td>\n",
       "      <td>2.55</td>\n",
       "      <td>10.64</td>\n",
       "    </tr>\n",
       "  </tbody>\n",
       "</table>\n",
       "</div>"
      ],
      "text/plain": [
       "                               Primary Program  Program A  Program B  \\\n",
       "Those starting with Primary                NaN      14.22        NaN   \n",
       "Those starting with Program A            86.81        NaN        NaN   \n",
       "\n",
       "                               Program C  Program D   None  \n",
       "Those starting with Primary          NaN       4.13  81.65  \n",
       "Those starting with Program A        NaN       2.55  10.64  "
      ]
     },
     "execution_count": 13,
     "metadata": {},
     "output_type": "execute_result"
    }
   ],
   "source": [
    "stud_df = df_all[df_all[\"UserType\"] == \"Student\"]\n",
    "stud_next_course = next_course(stud_df)\n",
    "\n",
    "print(\"Do students continue after their initial program?\")\n",
    "stud_next_course"
   ]
  },
  {
   "cell_type": "code",
   "execution_count": 14,
   "id": "5dd12492",
   "metadata": {
    "scrolled": true
   },
   "outputs": [
    {
     "data": {
      "image/png": "[encoded data removed]",
      "text/plain": [
       "<Figure size 1200x400 with 2 Axes>"
      ]
     },
     "metadata": {},
     "output_type": "display_data"
    }
   ],
   "source": [
    "plt.figure(figsize = (15,5));\n",
    "\n",
    "# test_pd.sort_values(\"Professional\", ascending = False, inplace = True)\n",
    "plt.subplot(1,2,1);\n",
    "clrs1 = ['#d1eae7' if (x < np.max(test_pd[\"Professional\"])) else '#61bfb1' for x in test_pd[\"Professional\"]];\n",
    "plt.bar(x =  test_pd.index, height = test_pd.Professional, width =0.4, color = clrs1);\n",
    "plt.xticks(fontsize = 12);\n",
    "plt.yticks(fontsize = 12);\n",
    "plt.ylabel(\"Percent\", fontsize = 13);\n",
    "plt.title(\"Professionals\", fontsize = 13);\n",
    "\n",
    "##Text is based on prof_next_course\n",
    "plt.text(x =  0.4, y = 60, s = \"\"\"60% of Professionals start with Primary Program. \n",
    "Of these, ~85% do not continue with another Program\"\"\", \n",
    "va = \"top\", backgroundcolor = \"#E3E3E3\", color = \"#006666\", fontsize = 12);\n",
    "\n",
    "plt.text(x =  1.4, y = 32, s = \"\"\"30% of Professionals start with Program A. \n",
    "Of these, ~73% continue with \n",
    "Primary Program\"\"\", \n",
    "va = \"top\", backgroundcolor = \"#E3E3E3\", color = \"#006666\", fontsize = 12);\n",
    "\n",
    "\n",
    "# test_pd.sort_values(\"Student\", ascending = False, inplace = True)\n",
    "plt.subplot(1,2,2, sharey = plt.subplot(1,2,1));\n",
    "plt.gca().yaxis.set_visible(False)\n",
    "clrs2 = ['#d1eae7' if x < float(40) else '#61bfb1' for x in test_pd[\"Student\"]];\n",
    "plt.bar(x = test_pd.index, height = test_pd.Student, width =0.4, color = clrs2);\n",
    "plt.xticks(fontsize = 12);\n",
    "plt.yticks(fontsize = 12);\n",
    "plt.title(\"Students\", fontsize = 13);\n",
    "\n",
    "##Text is based on stuf_next_course\n",
    "plt.text( x=  1.4, y = 59, s = \"\"\"60% of Students start with Program A. \n",
    "Of these, Of these, 87% continue with the \n",
    "Primary Program.\n",
    "\n",
    "40% of Students start with Primary Program. \n",
    "80% do not continue with \n",
    "another Program.\"\"\", \n",
    "va = \"top\", backgroundcolor = \"#E3E3E3\", color = \"#006666\", fontsize = 12);\n",
    "\n",
    "plt.suptitle(\"Initial Program and Continuing Training\", fontsize = 13);\n",
    "plt.tight_layout();\n",
    "plt.savefig(\"Initial_Next.png\")"
   ]
  },
  {
   "cell_type": "markdown",
   "id": "c5445d78",
   "metadata": {},
   "source": [
    "#### Observations: \n",
    "* 60% of Professionals start with Primary Program. Of these, ~85% do not continue with another Program.\n",
    "* 30% of Professionals start with Program A. Of these, ~73% continue with the Primary Program.\n",
    "* 60% of Students start with Program A. Of these, Of these, 87% continue with the Primary Program.\n",
    "* 40% of Students start with Primary Program. 80% do not continue with another Program."
   ]
  }
 ],
 "metadata": {
  "kernelspec": {
   "display_name": "Python 3",
   "language": "python",
   "name": "python3"
  },
  "language_info": {
   "codemirror_mode": {
    "name": "ipython",
    "version": 3
   },
   "file_extension": ".py",
   "mimetype": "text/x-python",
   "name": "python",
   "nbconvert_exporter": "python",
   "pygments_lexer": "ipython3",
   "version": "3.8.8"
  }
 },
 "nbformat": 4,
 "nbformat_minor": 5
}
